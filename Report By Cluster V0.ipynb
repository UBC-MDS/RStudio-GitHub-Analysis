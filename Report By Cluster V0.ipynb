{
 "cells": [
  {
   "cell_type": "code",
   "execution_count": 169,
   "metadata": {
    "slideshow": {
     "slide_type": "skip"
    }
   },
   "outputs": [],
   "source": [
    "%matplotlib inline\n",
    "from matplotlib.backends.backend_pgf import PdfPages\n",
    "import matplotlib.pyplot as plt\n",
    "import PyPDF2 \n",
    "import pickle\n",
    "import github_analysis.freq_graph as fg\n",
    "from importlib import reload\n",
    "import joypy\n",
    "import pandas as pd\n",
    "import seaborn as sns\n",
    "import numpy as np\n",
    "\n",
    "import warnings\n",
    "warnings.filterwarnings('ignore')"
   ]
  },
  {
   "cell_type": "code",
   "execution_count": 152,
   "metadata": {
    "slideshow": {
     "slide_type": "skip"
    }
   },
   "outputs": [],
   "source": [
    "#Load data\n",
    "# clusters looks like {cluster_id:[123,456,...]} where 123 and 456 are proj ids in that cluster\n",
    "pickle_in = open(\"./results/motifs_by_cluster.pickle\",\"rb\")\n",
    "motifs_by_cluster = pickle.load(pickle_in)\n",
    "\n",
    "pickle_in = open(\"./results/clusters.pickle\",\"rb\")\n",
    "clusters = pickle.load(pickle_in)\n",
    "\n",
    "# Load Data\n",
    "comm_auth_by_proj = pd.read_csv('data/author_commits_by_proj.csv').set_index('p_id')\n",
    "pr_cr_by_proj = pd.read_csv('data/pr_cr_by_proj.csv').set_index('p_id')\n",
    "issues_by_proj = pd.read_csv('data/issues_by_proj.csv').set_index('p_id')\n",
    "\n",
    "project = pd.concat([comm_auth_by_proj,pr_cr_by_proj,issues_by_proj],axis=1)"
   ]
  },
  {
   "cell_type": "markdown",
   "metadata": {
    "slideshow": {
     "slide_type": "slide"
    }
   },
   "source": [
    "# Cluster 0"
   ]
  },
  {
   "cell_type": "code",
   "execution_count": 153,
   "metadata": {
    "slideshow": {
     "slide_type": "skip"
    }
   },
   "outputs": [],
   "source": [
    "cluster0 = project[project.index.isin(clusters[0])]"
   ]
  },
  {
   "cell_type": "code",
   "execution_count": 161,
   "metadata": {},
   "outputs": [
    {
     "data": {
      "text/html": [
       "<div>\n",
       "<style scoped>\n",
       "    .dataframe tbody tr th:only-of-type {\n",
       "        vertical-align: middle;\n",
       "    }\n",
       "\n",
       "    .dataframe tbody tr th {\n",
       "        vertical-align: top;\n",
       "    }\n",
       "\n",
       "    .dataframe thead th {\n",
       "        text-align: right;\n",
       "    }\n",
       "</style>\n",
       "<table border=\"1\" class=\"dataframe\">\n",
       "  <thead>\n",
       "    <tr style=\"text-align: right;\">\n",
       "      <th></th>\n",
       "      <th>commits</th>\n",
       "      <th>authors</th>\n",
       "      <th>prs</th>\n",
       "      <th>code_reviews</th>\n",
       "      <th>issues</th>\n",
       "    </tr>\n",
       "  </thead>\n",
       "  <tbody>\n",
       "    <tr>\n",
       "      <th>count</th>\n",
       "      <td>288.000000</td>\n",
       "      <td>288.000000</td>\n",
       "      <td>288.000000</td>\n",
       "      <td>288.000000</td>\n",
       "      <td>288.000000</td>\n",
       "    </tr>\n",
       "    <tr>\n",
       "      <th>mean</th>\n",
       "      <td>99.434028</td>\n",
       "      <td>3.413194</td>\n",
       "      <td>1.361111</td>\n",
       "      <td>0.121528</td>\n",
       "      <td>7.253472</td>\n",
       "    </tr>\n",
       "    <tr>\n",
       "      <th>std</th>\n",
       "      <td>216.561912</td>\n",
       "      <td>11.881797</td>\n",
       "      <td>7.686915</td>\n",
       "      <td>1.040548</td>\n",
       "      <td>39.664117</td>\n",
       "    </tr>\n",
       "    <tr>\n",
       "      <th>min</th>\n",
       "      <td>9.000000</td>\n",
       "      <td>1.000000</td>\n",
       "      <td>0.000000</td>\n",
       "      <td>0.000000</td>\n",
       "      <td>0.000000</td>\n",
       "    </tr>\n",
       "    <tr>\n",
       "      <th>25%</th>\n",
       "      <td>27.750000</td>\n",
       "      <td>1.000000</td>\n",
       "      <td>0.000000</td>\n",
       "      <td>0.000000</td>\n",
       "      <td>0.000000</td>\n",
       "    </tr>\n",
       "    <tr>\n",
       "      <th>50%</th>\n",
       "      <td>50.000000</td>\n",
       "      <td>2.000000</td>\n",
       "      <td>0.000000</td>\n",
       "      <td>0.000000</td>\n",
       "      <td>0.000000</td>\n",
       "    </tr>\n",
       "    <tr>\n",
       "      <th>75%</th>\n",
       "      <td>101.000000</td>\n",
       "      <td>3.000000</td>\n",
       "      <td>0.000000</td>\n",
       "      <td>0.000000</td>\n",
       "      <td>2.000000</td>\n",
       "    </tr>\n",
       "    <tr>\n",
       "      <th>max</th>\n",
       "      <td>3224.000000</td>\n",
       "      <td>177.000000</td>\n",
       "      <td>122.000000</td>\n",
       "      <td>14.000000</td>\n",
       "      <td>610.000000</td>\n",
       "    </tr>\n",
       "  </tbody>\n",
       "</table>\n",
       "</div>"
      ],
      "text/plain": [
       "           commits     authors         prs  code_reviews      issues\n",
       "count   288.000000  288.000000  288.000000    288.000000  288.000000\n",
       "mean     99.434028    3.413194    1.361111      0.121528    7.253472\n",
       "std     216.561912   11.881797    7.686915      1.040548   39.664117\n",
       "min       9.000000    1.000000    0.000000      0.000000    0.000000\n",
       "25%      27.750000    1.000000    0.000000      0.000000    0.000000\n",
       "50%      50.000000    2.000000    0.000000      0.000000    0.000000\n",
       "75%     101.000000    3.000000    0.000000      0.000000    2.000000\n",
       "max    3224.000000  177.000000  122.000000     14.000000  610.000000"
      ]
     },
     "execution_count": 161,
     "metadata": {},
     "output_type": "execute_result"
    }
   ],
   "source": [
    "cluster0.describe()"
   ]
  },
  {
   "cell_type": "markdown",
   "metadata": {
    "slideshow": {
     "slide_type": "subslide"
    }
   },
   "source": [
    "## Motif\n",
    "\n",
    "This is an explanation of motifs "
   ]
  },
  {
   "cell_type": "code",
   "execution_count": 154,
   "metadata": {
    "slideshow": {
     "slide_type": "subslide"
    }
   },
   "outputs": [
    {
     "data": {
      "text/plain": [
       "<Figure size 216x216 with 0 Axes>"
      ]
     },
     "metadata": {},
     "output_type": "display_data"
    },
    {
     "data": {
      "text/plain": [
       "<Figure size 216x216 with 0 Axes>"
      ]
     },
     "metadata": {},
     "output_type": "display_data"
    },
    {
     "data": {
      "image/png": "[encoded data removed]",
      "text/plain": [
       "<Figure size 684x540 with 1 Axes>"
      ]
     },
     "metadata": {
      "needs_background": "light"
     },
     "output_type": "display_data"
    }
   ],
   "source": [
    "cluster_visual = fg.visualize_motif_samples_bar_graph(motifs_by_cluster[0])"
   ]
  },
  {
   "cell_type": "markdown",
   "metadata": {},
   "source": [
    "## Radial\n",
    "\n",
    "This is an explanation of radial"
   ]
  },
  {
   "cell_type": "code",
   "execution_count": null,
   "metadata": {},
   "outputs": [],
   "source": []
  },
  {
   "cell_type": "markdown",
   "metadata": {},
   "source": [
    "## GitHub Distributions\n",
    "\n",
    "Here is a distribution of authors, commits, issues, pull requests, and code reviews"
   ]
  },
  {
   "cell_type": "code",
   "execution_count": 160,
   "metadata": {},
   "outputs": [
    {
     "data": {
      "image/png": "[encoded data removed]",
      "text/plain": [
       "<Figure size 432x288 with 5 Axes>"
      ]
     },
     "metadata": {
      "needs_background": "light"
     },
     "output_type": "display_data"
    }
   ],
   "source": [
    "fig, ax = plt.subplots(4,1)\n",
    "_=joypy.joyplot(cluster0[['authors','prs','code_reviews','issues']],x_range=[0,20],fade=True,overlap=False,ax=ax)"
   ]
  },
  {
   "cell_type": "code",
   "execution_count": 157,
   "metadata": {},
   "outputs": [
    {
     "data": {
      "image/png": "[encoded data removed]",
      "text/plain": [
       "<Figure size 432x288 with 1 Axes>"
      ]
     },
     "metadata": {
      "needs_background": "light"
     },
     "output_type": "display_data"
    }
   ],
   "source": [
    "ax = sns.kdeplot(cluster0.commits,shade=True,)\n",
    "ax.set_xlim([0,500])\n",
    "sns.despine()\n",
    "ax.legend('')\n",
    "_=ax.set_title('Commits')"
   ]
  },
  {
   "cell_type": "code",
   "execution_count": 173,
   "metadata": {},
   "outputs": [
    {
     "data": {
      "image/png": "[encoded data removed]",
      "text/plain": [
       "<Figure size 432x288 with 2 Axes>"
      ]
     },
     "metadata": {
      "needs_background": "light"
     },
     "output_type": "display_data"
    }
   ],
   "source": [
    "p = cluster0.corr().values #'spearman'\n",
    "\n",
    "fig, ax = plt.subplots()\n",
    "im = ax.imshow(p,cmap='RdYlGn',vmin=-1,vmax=1)\n",
    "\n",
    "# We want to show all ticks...\n",
    "ax.set_xticks(np.arange(len(cluster0.columns)))\n",
    "ax.set_yticks(np.arange(len(cluster0.columns)))\n",
    "# ... and label them with the respective list entries\n",
    "ax.set_xticklabels(cluster0.columns,rotation='vertical')\n",
    "ax.set_yticklabels(cluster0.columns)\n",
    "\n",
    "# Rotate the tick labels and set their alignment.\n",
    "plt.setp(ax.get_xticklabels(), rotation=45, ha=\"right\",\n",
    "         rotation_mode=\"anchor\")\n",
    "\n",
    "# Loop over data dimensions and create text annotations.\n",
    "for i in range(len(cluster0.columns)):\n",
    "    for j in range(len(cluster0.columns)):\n",
    "        text = ax.text(j, i, round(p[i, j],2),\n",
    "                       ha=\"center\", va=\"center\", color=\"k\")\n",
    "\n",
    "ax.set_title(\"Correlation Between Project Variables\")\n",
    "ax.figure.colorbar(im)\n",
    "#fig.tight_layout()\n",
    "#plt.colorbar()\n",
    "plt.show()"
   ]
  },
  {
   "cell_type": "markdown",
   "metadata": {},
   "source": [
    "## Indices\n",
    "\n",
    "This is an index"
   ]
  },
  {
   "cell_type": "markdown",
   "metadata": {},
   "source": [
    "## Representative Projects"
   ]
  },
  {
   "cell_type": "code",
   "execution_count": null,
   "metadata": {},
   "outputs": [],
   "source": []
  },
  {
   "cell_type": "markdown",
   "metadata": {},
   "source": [
    "---"
   ]
  },
  {
   "cell_type": "markdown",
   "metadata": {},
   "source": [
    "# Cluster 1"
   ]
  },
  {
   "cell_type": "code",
   "execution_count": null,
   "metadata": {},
   "outputs": [],
   "source": []
  }
 ],
 "metadata": {
  "celltoolbar": "Raw Cell Format",
  "kernelspec": {
   "display_name": "Python 3",
   "language": "python",
   "name": "python3"
  },
  "language_info": {
   "codemirror_mode": {
    "name": "ipython",
    "version": 3
   },
   "file_extension": ".py",
   "mimetype": "text/x-python",
   "name": "python",
   "nbconvert_exporter": "python",
   "pygments_lexer": "ipython3",
   "version": "3.6.6"
  }
 },
 "nbformat": 4,
 "nbformat_minor": 2
}
