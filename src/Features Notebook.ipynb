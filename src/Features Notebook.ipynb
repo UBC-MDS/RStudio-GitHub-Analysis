{
 "cells": [
  {
   "cell_type": "code",
   "execution_count": 1,
   "metadata": {},
   "outputs": [],
   "source": [
    "import pandas as pd\n",
    "import networkx as nx\n",
    "import numpy as np"
   ]
  },
  {
   "cell_type": "code",
   "execution_count": 2,
   "metadata": {},
   "outputs": [
    {
     "data": {
      "text/html": [
       "<div>\n",
       "<style scoped>\n",
       "    .dataframe tbody tr th:only-of-type {\n",
       "        vertical-align: middle;\n",
       "    }\n",
       "\n",
       "    .dataframe tbody tr th {\n",
       "        vertical-align: top;\n",
       "    }\n",
       "\n",
       "    .dataframe thead th {\n",
       "        text-align: right;\n",
       "    }\n",
       "</style>\n",
       "<table border=\"1\" class=\"dataframe\">\n",
       "  <thead>\n",
       "    <tr style=\"text-align: right;\">\n",
       "      <th></th>\n",
       "      <th>commit_id</th>\n",
       "      <th>project_id</th>\n",
       "      <th>project_name</th>\n",
       "      <th>parent_id</th>\n",
       "    </tr>\n",
       "  </thead>\n",
       "  <tbody>\n",
       "    <tr>\n",
       "      <th>0</th>\n",
       "      <td>321132855</td>\n",
       "      <td>26730207</td>\n",
       "      <td>meta-ivi</td>\n",
       "      <td>321132856.0</td>\n",
       "    </tr>\n",
       "    <tr>\n",
       "      <th>1</th>\n",
       "      <td>333294039</td>\n",
       "      <td>27617768</td>\n",
       "      <td>ExcelLaunchPad</td>\n",
       "      <td>333294036.0</td>\n",
       "    </tr>\n",
       "    <tr>\n",
       "      <th>2</th>\n",
       "      <td>302312189</td>\n",
       "      <td>24513310</td>\n",
       "      <td>yii2-webception</td>\n",
       "      <td>302312191.0</td>\n",
       "    </tr>\n",
       "    <tr>\n",
       "      <th>3</th>\n",
       "      <td>124854783</td>\n",
       "      <td>3452681</td>\n",
       "      <td>mammoth.js</td>\n",
       "      <td>124843456.0</td>\n",
       "    </tr>\n",
       "    <tr>\n",
       "      <th>4</th>\n",
       "      <td>423307958</td>\n",
       "      <td>32130467</td>\n",
       "      <td>phase-0</td>\n",
       "      <td>423307476.0</td>\n",
       "    </tr>\n",
       "  </tbody>\n",
       "</table>\n",
       "</div>"
      ],
      "text/plain": [
       "   commit_id  project_id     project_name    parent_id\n",
       "0  321132855    26730207         meta-ivi  321132856.0\n",
       "1  333294039    27617768   ExcelLaunchPad  333294036.0\n",
       "2  302312189    24513310  yii2-webception  302312191.0\n",
       "3  124854783     3452681       mammoth.js  124843456.0\n",
       "4  423307958    32130467          phase-0  423307476.0"
      ]
     },
     "execution_count": 2,
     "metadata": {},
     "output_type": "execute_result"
    }
   ],
   "source": [
    "commits = pd.read_feather('../data/commits.feather')\n",
    "commits.head()"
   ]
  },
  {
   "cell_type": "code",
   "execution_count": 3,
   "metadata": {},
   "outputs": [
    {
     "data": {
      "text/html": [
       "<div>\n",
       "<style scoped>\n",
       "    .dataframe tbody tr th:only-of-type {\n",
       "        vertical-align: middle;\n",
       "    }\n",
       "\n",
       "    .dataframe tbody tr th {\n",
       "        vertical-align: top;\n",
       "    }\n",
       "\n",
       "    .dataframe thead th {\n",
       "        text-align: right;\n",
       "    }\n",
       "</style>\n",
       "<table border=\"1\" class=\"dataframe\">\n",
       "  <thead>\n",
       "    <tr style=\"text-align: right;\">\n",
       "      <th></th>\n",
       "      <th>commit_id</th>\n",
       "      <th>project_id</th>\n",
       "      <th>project_name</th>\n",
       "      <th>parent_id</th>\n",
       "    </tr>\n",
       "  </thead>\n",
       "  <tbody>\n",
       "    <tr>\n",
       "      <th>312</th>\n",
       "      <td>57035161</td>\n",
       "      <td>3526154</td>\n",
       "      <td>oneclick</td>\n",
       "      <td>57035155.0</td>\n",
       "    </tr>\n",
       "    <tr>\n",
       "      <th>313</th>\n",
       "      <td>162455517</td>\n",
       "      <td>3526154</td>\n",
       "      <td>oneclick</td>\n",
       "      <td>162450416.0</td>\n",
       "    </tr>\n",
       "    <tr>\n",
       "      <th>3666</th>\n",
       "      <td>61587113</td>\n",
       "      <td>3526154</td>\n",
       "      <td>oneclick</td>\n",
       "      <td>61539488.0</td>\n",
       "    </tr>\n",
       "    <tr>\n",
       "      <th>3667</th>\n",
       "      <td>269200796</td>\n",
       "      <td>3526154</td>\n",
       "      <td>oneclick</td>\n",
       "      <td>269200795.0</td>\n",
       "    </tr>\n",
       "    <tr>\n",
       "      <th>5391</th>\n",
       "      <td>39513853</td>\n",
       "      <td>3526154</td>\n",
       "      <td>oneclick</td>\n",
       "      <td>39513850.0</td>\n",
       "    </tr>\n",
       "  </tbody>\n",
       "</table>\n",
       "</div>"
      ],
      "text/plain": [
       "      commit_id  project_id project_name    parent_id\n",
       "312    57035161     3526154     oneclick   57035155.0\n",
       "313   162455517     3526154     oneclick  162450416.0\n",
       "3666   61587113     3526154     oneclick   61539488.0\n",
       "3667  269200796     3526154     oneclick  269200795.0\n",
       "5391   39513853     3526154     oneclick   39513850.0"
      ]
     },
     "execution_count": 3,
     "metadata": {},
     "output_type": "execute_result"
    }
   ],
   "source": [
    "project_names_sample = commits[['project_name']].sample(5, random_state = 2019)\n",
    "commits_sample = commits.loc[commits['project_name'].isin(project_names_sample.project_name.values)]\n",
    "commits_sample.head()"
   ]
  },
  {
   "cell_type": "code",
   "execution_count": 4,
   "metadata": {},
   "outputs": [],
   "source": [
    "graphs = {}\n",
    "\n",
    "for project in project_names_sample.project_name.values:\n",
    "    graph_df = commits_sample.loc[commits_sample['project_name'] == project]\n",
    "    graph_df = graph_df[['commit_id', 'parent_id']]\n",
    "    graph_df.columns = pd.Index(['target', 'source'])\n",
    "    \n",
    "    graph = nx.from_pandas_edgelist(graph_df, create_using=nx.DiGraph)\n",
    "    graph.name = project\n",
    "    graphs[project] = graph"
   ]
  },
  {
   "cell_type": "code",
   "execution_count": 5,
   "metadata": {},
   "outputs": [],
   "source": [
    "repo = graphs['javarosa']"
   ]
  },
  {
   "cell_type": "markdown",
   "metadata": {},
   "source": [
    "### Features\n",
    "\n",
    "- Number of Nodes\n",
    "- Number of Edges\n",
    "- Density\n",
    "- Average Clustering Coefficient\n",
    "- Transitivity\n",
    "- Weakly Connected\n",
    "- Number of Weakly Connected\n",
    "- Number attracting components"
   ]
  },
  {
   "cell_type": "code",
   "execution_count": 6,
   "metadata": {},
   "outputs": [],
   "source": [
    "num_nodes = repo.number_of_nodes()\n",
    "num_edges = repo.number_of_edges()\n",
    "\n",
    "density = nx.density(repo)\n",
    "avg_clustering = nx.algorithms.cluster.average_clustering(repo)\n",
    "transitivity = nx.algorithms.cluster.transitivity(repo)\n",
    "\n",
    "weakly_connected = nx.algorithms.components.is_weakly_connected(repo)\n",
    "num_weakly = nx.algorithms.components.number_weakly_connected_components(repo)\n",
    "num_attracting = nx.algorithms.components.number_attracting_components(repo)"
   ]
  },
  {
   "cell_type": "code",
   "execution_count": 7,
   "metadata": {},
   "outputs": [],
   "source": [
    "degree_centrality = nx.algorithms.centrality.degree_centrality(repo).values()\n",
    "in_degree_centrality = nx.algorithms.centrality.in_degree_centrality(repo).values()\n",
    "out_degree_centrality = nx.algorithms.centrality.out_degree_centrality(repo).values()\n",
    "eigen_centrality = nx.algorithms.centrality.eigenvector_centrality(repo, max_iter=int(1e6)).values()\n",
    "katz_centrality = nx.algorithms.centrality.katz_centrality(repo, max_iter=int(1e6)).values()\n",
    "num_triangles = nx.algorithms.cluster.clustering(repo).values()"
   ]
  },
  {
   "cell_type": "code",
   "execution_count": 8,
   "metadata": {},
   "outputs": [],
   "source": [
    "degree = list(nx.degree(repo))\n",
    "in_degree = list(repo.in_degree)\n",
    "out_degree = list(repo.out_degree)"
   ]
  },
  {
   "cell_type": "markdown",
   "metadata": {},
   "source": [
    "- Degree Centrality **dict**\n",
    "- In-Degree Centrality **dict**\n",
    "- Out-Degree Centrality **dict**\n",
    "- Eigenvector Centrality **dict**\n",
    "- Katz Centrality **dict**\n",
    "- Current-flow Closeness Centrality **dict**\n",
    "- Betweenness Centrality **dict**\n",
    "- Clustering **dict**\n",
    "\n",
    "- Average degree (overall)\n",
    "- Standard Deviation degree (overall)\n",
    "- Average in degree\n",
    "- Standard Deviation in degree\n",
    "- Average out degree\n",
    "- Standard Deviation out degree"
   ]
  }
 ],
 "metadata": {
  "kernelspec": {
   "display_name": "Python 3",
   "language": "python",
   "name": "python3"
  },
  "language_info": {
   "codemirror_mode": {
    "name": "ipython",
    "version": 3
   },
   "file_extension": ".py",
   "mimetype": "text/x-python",
   "name": "python",
   "nbconvert_exporter": "python",
   "pygments_lexer": "ipython3",
   "version": "3.6.8"
  }
 },
 "nbformat": 4,
 "nbformat_minor": 2
}
